{
 "cells": [
  {
   "cell_type": "markdown",
   "metadata": {},
   "source": [
    "Se obtienen los datos de la db del sniim"
   ]
  },
  {
   "cell_type": "code",
   "execution_count": 1,
   "metadata": {
    "scrolled": true
   },
   "outputs": [
    {
     "name": "stdout",
     "output_type": "stream",
     "text": [
      "Selecting rows from mobile table using cursor.fetchall\n",
      "Save each column value into the correspondent  array\n",
      "PostgreSQL connection is closed\n"
     ]
    }
   ],
   "source": [
    "import psycopg2\n",
    "import numpy as np\n",
    "import pandas as pd\n",
    "from datetime import datetime\n",
    "\n",
    "markets = [(1, [10, 17, 19, 23, 33, 40]), (42, [1])]\n",
    "\n",
    "#Datos para obtener un mercado especifico\n",
    "sourceid = 1\n",
    "endid = 19\n",
    "potatoid = 1\n",
    "\n",
    "records = []\n",
    "\n",
    "try:\n",
    "    connection = psycopg2.connect(user = \"postgres\", password = \"r351d3nc14501\", host = \"127.0.0.1\", port = \"5432\", database = \"potatoe_markets\")\n",
    "    cursor = connection.cursor()\n",
    "    postgreSQL_select_Query = \"SELECT P.sniimdatedate, P.avgprice FROM Price P INNER JOIN Market M ON P.SourceMarketID = M.MarketID INNER JOIN Market MM ON P.endmarketid = mm.marketid INNER JOIN Potato PP on p.potatoid = pp.potatoid WHERE m.marketid = {} AND MM.marketid = {} AND p.SNIIMPRESENTATION = 'CALCULADO' AND pp.potatoid = {} AND P.sniimdatedate > '2018-07-23' ORDER BY SNIIMDATEDATE\".format(sourceid, endid, potatoid)\n",
    "    cursor.execute(postgreSQL_select_Query)\n",
    "    print(\"Selecting rows from mobile table using cursor.fetchall\")\n",
    "    value_records = cursor.fetchall()\n",
    "\n",
    "    print(\"Save each column value into the correspondent  array\")\n",
    "    for row in value_records:\n",
    "        records.append(tuple((row[0], row[1])))\n",
    "    \n",
    "except (Exception, psycopg2.Error) as error :\n",
    "    print (\"Error while fetching data from PostgreSQL\", error)\n",
    "finally:\n",
    "    #closing database connection.\n",
    "    if(connection):\n",
    "        cursor.close()\n",
    "        connection.close()\n",
    "        print(\"PostgreSQL connection is closed\")\n"
   ]
  },
  {
   "cell_type": "markdown",
   "metadata": {},
   "source": [
    "Se procesan los datos para rellenar fechas faltantes se guardan en la tabla datos procesados"
   ]
  },
  {
   "cell_type": "code",
   "execution_count": 2,
   "metadata": {
    "scrolled": true
   },
   "outputs": [
    {
     "name": "stdout",
     "output_type": "stream",
     "text": [
      "             0     1\n",
      "0   2019-02-21  14.0\n",
      "1   2019-02-22  15.0\n",
      "4   2019-02-25  15.0\n",
      "5   2019-02-26  15.0\n",
      "6   2019-02-27  15.0\n",
      "7   2019-02-28  15.0\n",
      "8   2019-03-01  15.0\n",
      "11  2019-03-04  15.0\n",
      "12  2019-03-05  15.0\n",
      "13  2019-03-06  15.0\n",
      "14  2019-03-07  15.0\n",
      "15  2019-03-08  15.0\n",
      "18  2019-03-11  15.0\n",
      "19  2019-03-12  15.0\n",
      "20  2019-03-13  15.0\n",
      "21  2019-03-14  15.0\n",
      "22  2019-03-15  15.3\n",
      "25  2019-03-18  15.3\n",
      "26  2019-03-19  15.3\n",
      "27  2019-03-20  15.3\n",
      "28  2019-03-21  15.3\n",
      "29  2019-03-22  15.3\n",
      "32  2019-03-25  15.3\n",
      "33  2019-03-26  15.3\n",
      "34  2019-03-27  15.3\n",
      "35  2019-03-28  15.3\n",
      "36  2019-03-29  15.3\n",
      "39  2019-04-01  15.3\n",
      "40  2019-04-02  15.3\n",
      "41  2019-04-03  15.3\n",
      "..         ...   ...\n",
      "160 2019-07-31  14.0\n",
      "161 2019-08-01  14.0\n",
      "162 2019-08-02  18.0\n",
      "165 2019-08-05  18.0\n",
      "166 2019-08-06  18.0\n",
      "167 2019-08-07  18.0\n",
      "168 2019-08-08  18.0\n",
      "169 2019-08-09  18.0\n",
      "172 2019-08-12  18.0\n",
      "173 2019-08-13  15.5\n",
      "174 2019-08-14  15.5\n",
      "175 2019-08-15  15.5\n",
      "176 2019-08-16  16.3\n",
      "179 2019-08-19  16.3\n",
      "180 2019-08-20  16.3\n",
      "181 2019-08-21  16.3\n",
      "182 2019-08-22  16.3\n",
      "183 2019-08-23  17.0\n",
      "186 2019-08-26  17.0\n",
      "187 2019-08-27  17.0\n",
      "188 2019-08-28  17.0\n",
      "189 2019-08-29  17.0\n",
      "190 2019-08-30  19.0\n",
      "193 2019-09-02  19.0\n",
      "194 2019-09-03  19.0\n",
      "195 2019-09-04  19.0\n",
      "196 2019-09-05  19.0\n",
      "197 2019-09-06  19.0\n",
      "200 2019-09-09  19.0\n",
      "201 2019-09-10  19.0\n",
      "\n",
      "[144 rows x 2 columns]\n",
      "144 Record inserted successfully into mobile table\n",
      "PostgreSQL connection is closed\n"
     ]
    }
   ],
   "source": [
    "dates = []\n",
    "prices = []\n",
    "for con in range(0, len(records)):\n",
    "    dates.append(pd.Timestamp(records[con][0]))\n",
    "    prices.append(records[con][1]/100)\n",
    "dates = pd.Index(dates)\n",
    "series = pd.Series(prices, dates)\n",
    "df = pd.DataFrame({1:series})\n",
    "#print(df)\n",
    "df = df.asfreq('D')\n",
    "df = df.reset_index()\n",
    "df.columns = range(df.shape[1])\n",
    "\n",
    "for index,row in df.iterrows():\n",
    "    row[1] = pd.to_numeric(row[1], errors='coerce')\n",
    "    if row[0].date().weekday() == 5 or row[0].date().weekday() == 6 :\n",
    "        df = df.drop([index],axis=0)\n",
    "        continue\n",
    "\n",
    "df = df.interpolate()\n",
    "print(df)\n",
    "\n",
    "records_to_insert = []\n",
    "\n",
    "for index,row in df.iterrows():\n",
    "    records_to_insert.append(tuple((row[0], row[1], sourceid, endid, potatoid)))\n",
    "\n",
    "#print(records_to_insert)\n",
    "\n",
    "def bulkInsert(records):\n",
    "    try:\n",
    "        connection = psycopg2.connect(user = \"postgres\", password = \"r351d3nc14501\", host = \"127.0.0.1\", port = \"5432\", database = \"potatoe_markets\")\n",
    "        cursor = connection.cursor()\n",
    "        sql_insert_query = \"\"\" INSERT INTO normalized_price (sniimdate, price, sourcemarketid, endmarketid, potatoid) VALUES (%s, %s, %s, %s, %s) \"\"\"\n",
    "        # executemany() to insert multiple rows rows\n",
    "        result = cursor.executemany(sql_insert_query, records)\n",
    "        connection.commit()\n",
    "        print(cursor.rowcount, \"Record inserted successfully into mobile table\")\n",
    "    except (Exception, psycopg2.Error) as error:\n",
    "        print(\"Failed inserting record into mobile table {}\".format(error))\n",
    "    finally:\n",
    "        # closing database connection.\n",
    "        if (connection):\n",
    "            cursor.close()\n",
    "            connection.close()\n",
    "            print(\"PostgreSQL connection is closed\")\n",
    "bulkInsert(records_to_insert)\n",
    "\n",
    "\n",
    "#df.to_csv(\"potatoeseries04.csv\",header=False, na_rep='NaN')"
   ]
  },
  {
   "cell_type": "code",
   "execution_count": null,
   "metadata": {},
   "outputs": [],
   "source": []
  }
 ],
 "metadata": {
  "kernelspec": {
   "display_name": "Python 3",
   "language": "python",
   "name": "python3"
  },
  "language_info": {
   "codemirror_mode": {
    "name": "ipython",
    "version": 3
   },
   "file_extension": ".py",
   "mimetype": "text/x-python",
   "name": "python",
   "nbconvert_exporter": "python",
   "pygments_lexer": "ipython3",
   "version": "3.6.9"
  }
 },
 "nbformat": 4,
 "nbformat_minor": 2
}
