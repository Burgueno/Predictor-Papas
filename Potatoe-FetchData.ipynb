{
 "cells": [
  {
   "cell_type": "markdown",
   "metadata": {},
   "source": [
    "Se obtienen los datos de la db del sniim"
   ]
  },
  {
   "cell_type": "code",
   "execution_count": 3,
   "metadata": {
    "scrolled": true
   },
   "outputs": [
    {
     "name": "stdout",
     "output_type": "stream",
     "text": [
      "Selecting rows from mobile table using cursor.fetchall\n",
      "Save each column value into the correspondent  array\n",
      "PostgreSQL connection is closed\n"
     ]
    }
   ],
   "source": [
    "import psycopg2k\n",
    "import numpy as np\n",
    "import pandas as pd\n",
    "from datetime import datetime\n",
    "\n",
    "#Datos para obtener un mercado especifico, estos son lo que van a variar al momento de actualizar los datos en la tabla\n",
    "sourceid = 1 \n",
    "endid = 40\n",
    "potatoid = 1\n",
    "\n",
    "records = []\n",
    "\n",
    "try:\n",
    "    connection = psycopg2.connect(user = \"postgres\", password = \"r351d3nc14501\", host = \"127.0.0.1\", port = \"5432\", database = \"potatoe_markets\")\n",
    "    cursor = connection.cursor()\n",
    "    \n",
    "    postgreSQL_select_Query = \"SELECT P.sniimdatedate, P.avgprice FROM Price P INNER JOIN Market M ON P.SourceMarketID = M.MarketID INNER JOIN Market MM ON P.endmarketid = mm.marketid INNER JOIN Potato PP on p.potatoid = pp.potatoid WHERE m.marketid = {} AND MM.marketid = {} AND p.SNIIMPRESENTATION = 'CALCULADO' AND pp.potatoid = {} AND P.sniimdatedate > (select sniimdate from normalized_price where sourcemarketid = {} and endmarketid = {} order by sniimdate desc limit 1) ORDER BY SNIIMDATEDATE\".format(sourceid, endid, potatoid, sourceid, endid)\n",
    "        \n",
    "    cursor.execute(postgreSQL_select_Query)\n",
    "    print(\"Selecting rows from mobile table using cursor.fetchall\")\n",
    "    value_records = cursor.fetchall()\n",
    "\n",
    "    print(\"Save each column value into the correspondent  array\")\n",
    "    for row in value_records:\n",
    "        records.append(tuple((row[0], row[1])))\n",
    "    \n",
    "except (Exception, psycopg2.Error) as error :\n",
    "    print (\"Error while fetching data from PostgreSQL\", error)\n",
    "finally:\n",
    "    #closing database connection.\n",
    "    if(connection):\n",
    "        cursor.close()\n",
    "        connection.close()\n",
    "        print(\"PostgreSQL connection is closed\")\n"
   ]
  },
  {
   "cell_type": "markdown",
   "metadata": {},
   "source": [
    "Se procesan los datos para rellenar fechas faltantes se guardan en la tabla datos procesados"
   ]
  },
  {
   "cell_type": "code",
   "execution_count": 4,
   "metadata": {
    "scrolled": true
   },
   "outputs": [
    {
     "name": "stdout",
     "output_type": "stream",
     "text": [
      "           0     1\n",
      "0 2019-09-10  14.0\n"
     ]
    }
   ],
   "source": [
    "dates = []\n",
    "prices = []\n",
    "for con in range(0, len(records)):\n",
    "    dates.append(pd.Timestamp(records[con][0]))\n",
    "    prices.append(records[con][1]/100)\n",
    "dates = pd.Index(dates)\n",
    "series = pd.Series(prices, dates)\n",
    "df = pd.DataFrame({1:series})\n",
    "#print(df)\n",
    "df = df.asfreq('D')\n",
    "df = df.reset_index()\n",
    "df.columns = range(df.shape[1])\n",
    "\n",
    "for index,row in df.iterrows():\n",
    "    row[1] = pd.to_numeric(row[1], errors='coerce')\n",
    "    if row[0].date().weekday() == 5 or row[0].date().weekday() == 6 :\n",
    "        df = df.drop([index],axis=0)\n",
    "        continue\n",
    "\n",
    "df = df.interpolate()\n",
    "print(df)\n",
    "\n",
    "records_to_insert = []\n",
    "\n",
    "for index,row in df.iterrows():\n",
    "    records_to_insert.append(tuple((row[0], row[1], sourceid, endid, potatoid)))\n",
    "\n",
    "#print(records_to_insert)\n",
    "\n",
    "def bulkInsert(records):\n",
    "    try:\n",
    "        connection = psycopg2.connect(user = \"postgres\", password = \"r351d3nc14501\", host = \"127.0.0.1\", port = \"5432\", database = \"potatoe_markets\")\n",
    "        cursor = connection.cursor()\n",
    "        sql_insert_query = \"\"\" INSERT INTO normalized_price (sniimdate, price, sourcemarketid, endmarketid, potatoid) VALUES (%s, %s, %s, %s, %s) \"\"\"\n",
    "        # executemany() to insert multiple rows rows\n",
    "        result = cursor.executemany(sql_insert_query, records)\n",
    "        connection.commit()\n",
    "        print(cursor.rowcount, \"Record inserted successfully into mobile table\")\n",
    "    except (Exception, psycopg2.Error) as error:\n",
    "        print(\"Failed inserting record into mobile table {}\".format(error))\n",
    "    finally:\n",
    "        # closing database connection.\n",
    "        if (connection):\n",
    "            cursor.close()\n",
    "            connection.close()\n",
    "            print(\"PostgreSQL connection is closed\")\n",
    "\n",
    "bulkInsert(records_to_insert)\n"
   ]
  },
  {
   "cell_type": "code",
   "execution_count": null,
   "metadata": {},
   "outputs": [],
   "source": []
  }
 ],
 "metadata": {
  "kernelspec": {
   "display_name": "Python 3",
   "language": "python",
   "name": "python3"
  },
  "language_info": {
   "codemirror_mode": {
    "name": "ipython",
    "version": 3
   },
   "file_extension": ".py",
   "mimetype": "text/x-python",
   "name": "python",
   "nbconvert_exporter": "python",
   "pygments_lexer": "ipython3",
   "version": "3.6.9"
  }
 },
 "nbformat": 4,
 "nbformat_minor": 2
}
